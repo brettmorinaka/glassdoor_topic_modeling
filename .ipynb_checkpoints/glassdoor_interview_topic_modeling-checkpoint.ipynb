{
 "cells": [
  {
   "cell_type": "markdown",
   "metadata": {},
   "source": [
    "The purpose of this project is to perform topic modeling on data scraped from glassdoor.com\n",
    "\n",
    "For more info on how the data was collected, please see [https://github.com/djkjohnston/glassdoor_scrape](https://github.com/djkjohnston/glassdoor_scrape)"
   ]
  },
  {
   "cell_type": "code",
   "execution_count": 1,
   "metadata": {},
   "outputs": [],
   "source": [
    "import pandas as pd\n",
    "from nltk.corpus import stopwords \n",
    "from nltk.stem.wordnet import WordNetLemmatizer\n",
    "import string\n",
    "import re\n",
    "\n",
    "import matplotlib.pyplot as plt\n",
    "\n",
    "%matplotlib inline"
   ]
  },
  {
   "cell_type": "code",
   "execution_count": 2,
   "metadata": {},
   "outputs": [],
   "source": [
    "interviews = pd.read_csv('data/glassdoor_interviews.csv')"
   ]
  },
  {
   "cell_type": "code",
   "execution_count": 3,
   "metadata": {},
   "outputs": [
    {
     "data": {
      "text/html": [
       "<div>\n",
       "<table border=\"1\" class=\"dataframe\">\n",
       "  <thead>\n",
       "    <tr style=\"text-align: right;\">\n",
       "      <th></th>\n",
       "      <th>application_proccess</th>\n",
       "      <th>company</th>\n",
       "      <th>interview_description</th>\n",
       "      <th>interview_difficulty</th>\n",
       "      <th>interview_experience</th>\n",
       "      <th>interview_questions</th>\n",
       "      <th>job_title</th>\n",
       "      <th>offer_status</th>\n",
       "      <th>review_date</th>\n",
       "    </tr>\n",
       "  </thead>\n",
       "  <tbody>\n",
       "    <tr>\n",
       "      <th>0</th>\n",
       "      <td>NaN</td>\n",
       "      <td>General Assembly</td>\n",
       "      <td>It was very friendly but difficult, a lot of q...</td>\n",
       "      <td>Difficult Interview</td>\n",
       "      <td>Negative Experience</td>\n",
       "      <td>Why do you think we should hire you?   ,Answe...</td>\n",
       "      <td>Teaching Assistant</td>\n",
       "      <td>Accepted Offer</td>\n",
       "      <td>Dec 21, 2017</td>\n",
       "    </tr>\n",
       "    <tr>\n",
       "      <th>1</th>\n",
       "      <td>The process took 3+ months. I interviewed at G...</td>\n",
       "      <td>General Assembly</td>\n",
       "      <td>One of the worst interview processes I have ev...</td>\n",
       "      <td>Easy Interview</td>\n",
       "      <td>Negative Experience</td>\n",
       "      <td>How does your experience relate to the positi...</td>\n",
       "      <td>Commercial Counsel</td>\n",
       "      <td>No Offer</td>\n",
       "      <td>Dec 11, 2017</td>\n",
       "    </tr>\n",
       "    <tr>\n",
       "      <th>2</th>\n",
       "      <td>NaN</td>\n",
       "      <td>General Assembly</td>\n",
       "      <td>Was contacted for a phone interview. After sch...</td>\n",
       "      <td>NaN</td>\n",
       "      <td>Negative Experience</td>\n",
       "      <td>NaN</td>\n",
       "      <td>Marketing</td>\n",
       "      <td>No Offer</td>\n",
       "      <td>Nov 30, 2017</td>\n",
       "    </tr>\n",
       "    <tr>\n",
       "      <th>3</th>\n",
       "      <td>I applied online. The process took 2 weeks. I ...</td>\n",
       "      <td>General Assembly</td>\n",
       "      <td>They call you, you have a brief phone intervie...</td>\n",
       "      <td>Easy Interview</td>\n",
       "      <td>Negative Experience</td>\n",
       "      <td>Typical and very generic interview questions....</td>\n",
       "      <td>\"Admissions Receptionist\"</td>\n",
       "      <td>No Offer</td>\n",
       "      <td>Jan 1, 2018</td>\n",
       "    </tr>\n",
       "    <tr>\n",
       "      <th>4</th>\n",
       "      <td>I applied through a recruiter. The process too...</td>\n",
       "      <td>General Assembly</td>\n",
       "      <td>3 phone interviews, and a task (three question...</td>\n",
       "      <td>Average Interview</td>\n",
       "      <td>Negative Experience</td>\n",
       "      <td>What tradeshows should we focus on?   ,1 Answ...</td>\n",
       "      <td>B2B Marketing Manager</td>\n",
       "      <td>No Offer</td>\n",
       "      <td>Oct 31, 2017</td>\n",
       "    </tr>\n",
       "  </tbody>\n",
       "</table>\n",
       "</div>"
      ],
      "text/plain": [
       "                                application_proccess           company  \\\n",
       "0                                                NaN  General Assembly   \n",
       "1  The process took 3+ months. I interviewed at G...  General Assembly   \n",
       "2                                                NaN  General Assembly   \n",
       "3  I applied online. The process took 2 weeks. I ...  General Assembly   \n",
       "4  I applied through a recruiter. The process too...  General Assembly   \n",
       "\n",
       "                               interview_description interview_difficulty  \\\n",
       "0  It was very friendly but difficult, a lot of q...  Difficult Interview   \n",
       "1  One of the worst interview processes I have ev...       Easy Interview   \n",
       "2  Was contacted for a phone interview. After sch...                  NaN   \n",
       "3  They call you, you have a brief phone intervie...       Easy Interview   \n",
       "4  3 phone interviews, and a task (three question...    Average Interview   \n",
       "\n",
       "  interview_experience                                interview_questions  \\\n",
       "0  Negative Experience   Why do you think we should hire you?   ,Answe...   \n",
       "1  Negative Experience   How does your experience relate to the positi...   \n",
       "2  Negative Experience                                                NaN   \n",
       "3  Negative Experience   Typical and very generic interview questions....   \n",
       "4  Negative Experience   What tradeshows should we focus on?   ,1 Answ...   \n",
       "\n",
       "                   job_title    offer_status    review_date  \n",
       "0         Teaching Assistant  Accepted Offer   Dec 21, 2017  \n",
       "1         Commercial Counsel        No Offer   Dec 11, 2017  \n",
       "2                  Marketing        No Offer   Nov 30, 2017  \n",
       "3  \"Admissions Receptionist\"        No Offer    Jan 1, 2018  \n",
       "4      B2B Marketing Manager        No Offer   Oct 31, 2017  "
      ]
     },
     "execution_count": 3,
     "metadata": {},
     "output_type": "execute_result"
    }
   ],
   "source": [
    "interviews.head()"
   ]
  },
  {
   "cell_type": "code",
   "execution_count": 4,
   "metadata": {},
   "outputs": [
    {
     "data": {
      "text/plain": [
       "\"It was very friendly but difficult, a lot of questions doesn't belong to industry, but i had a lot of fun, great interviewers. Amazing environment. When i get in they offer me water, tea, coffee and I think it was very nice of them.\""
      ]
     },
     "execution_count": 4,
     "metadata": {},
     "output_type": "execute_result"
    }
   ],
   "source": [
    "interviews['interview_description'][0]"
   ]
  },
  {
   "cell_type": "code",
   "execution_count": 5,
   "metadata": {},
   "outputs": [
    {
     "data": {
      "text/plain": [
       "' Why do you think we should hire you? \\xa0 ,Answer Question'"
      ]
     },
     "execution_count": 5,
     "metadata": {},
     "output_type": "execute_result"
    }
   ],
   "source": [
    "interviews['interview_questions'][0]"
   ]
  },
  {
   "cell_type": "code",
   "execution_count": 6,
   "metadata": {
    "scrolled": true
   },
   "outputs": [
    {
     "data": {
      "text/plain": [
       "' What tradeshows should we focus on? \\xa0 ,1 Answer, How can we use our blog to create a whitepaper? \\xa0 ,1 Answer, What can we do to reach our audience (c-level, etc.) \\xa0 ,1 Answer'"
      ]
     },
     "execution_count": 6,
     "metadata": {},
     "output_type": "execute_result"
    }
   ],
   "source": [
    "interviews['interview_questions'][4]"
   ]
  },
  {
   "cell_type": "code",
   "execution_count": 7,
   "metadata": {
    "scrolled": false
   },
   "outputs": [
    {
     "name": "stdout",
     "output_type": "stream",
     "text": [
      "<class 'pandas.core.frame.DataFrame'>\n",
      "RangeIndex: 87 entries, 0 to 86\n",
      "Data columns (total 9 columns):\n",
      "application_proccess     80 non-null object\n",
      "company                  87 non-null object\n",
      "interview_description    87 non-null object\n",
      "interview_difficulty     78 non-null object\n",
      "interview_experience     86 non-null object\n",
      "interview_questions      76 non-null object\n",
      "job_title                87 non-null object\n",
      "offer_status             87 non-null object\n",
      "review_date              87 non-null object\n",
      "dtypes: object(9)\n",
      "memory usage: 6.2+ KB\n"
     ]
    }
   ],
   "source": [
    "interviews.info()"
   ]
  },
  {
   "cell_type": "code",
   "execution_count": 8,
   "metadata": {},
   "outputs": [
    {
     "data": {
      "text/html": [
       "<div>\n",
       "<table border=\"1\" class=\"dataframe\">\n",
       "  <thead>\n",
       "    <tr style=\"text-align: right;\">\n",
       "      <th></th>\n",
       "      <th>count</th>\n",
       "      <th>unique</th>\n",
       "      <th>top</th>\n",
       "      <th>freq</th>\n",
       "    </tr>\n",
       "  </thead>\n",
       "  <tbody>\n",
       "    <tr>\n",
       "      <th>application_proccess</th>\n",
       "      <td>80</td>\n",
       "      <td>73</td>\n",
       "      <td>I applied online. I interviewed at General Ass...</td>\n",
       "      <td>7</td>\n",
       "    </tr>\n",
       "    <tr>\n",
       "      <th>company</th>\n",
       "      <td>87</td>\n",
       "      <td>1</td>\n",
       "      <td>General Assembly</td>\n",
       "      <td>87</td>\n",
       "    </tr>\n",
       "    <tr>\n",
       "      <th>interview_description</th>\n",
       "      <td>87</td>\n",
       "      <td>87</td>\n",
       "      <td>Connected with the recruiter who was commandin...</td>\n",
       "      <td>1</td>\n",
       "    </tr>\n",
       "    <tr>\n",
       "      <th>interview_difficulty</th>\n",
       "      <td>78</td>\n",
       "      <td>3</td>\n",
       "      <td>Average Interview</td>\n",
       "      <td>41</td>\n",
       "    </tr>\n",
       "    <tr>\n",
       "      <th>interview_experience</th>\n",
       "      <td>86</td>\n",
       "      <td>4</td>\n",
       "      <td>Negative Experience</td>\n",
       "      <td>38</td>\n",
       "    </tr>\n",
       "    <tr>\n",
       "      <th>interview_questions</th>\n",
       "      <td>76</td>\n",
       "      <td>76</td>\n",
       "      <td>Best Practices, Experience, Past Projects   ,...</td>\n",
       "      <td>1</td>\n",
       "    </tr>\n",
       "    <tr>\n",
       "      <th>job_title</th>\n",
       "      <td>87</td>\n",
       "      <td>68</td>\n",
       "      <td>Teaching Assistant</td>\n",
       "      <td>5</td>\n",
       "    </tr>\n",
       "    <tr>\n",
       "      <th>offer_status</th>\n",
       "      <td>87</td>\n",
       "      <td>3</td>\n",
       "      <td>No Offer</td>\n",
       "      <td>64</td>\n",
       "    </tr>\n",
       "    <tr>\n",
       "      <th>review_date</th>\n",
       "      <td>87</td>\n",
       "      <td>83</td>\n",
       "      <td>Jun 1, 2016</td>\n",
       "      <td>2</td>\n",
       "    </tr>\n",
       "  </tbody>\n",
       "</table>\n",
       "</div>"
      ],
      "text/plain": [
       "                      count unique  \\\n",
       "application_proccess     80     73   \n",
       "company                  87      1   \n",
       "interview_description    87     87   \n",
       "interview_difficulty     78      3   \n",
       "interview_experience     86      4   \n",
       "interview_questions      76     76   \n",
       "job_title                87     68   \n",
       "offer_status             87      3   \n",
       "review_date              87     83   \n",
       "\n",
       "                                                                     top freq  \n",
       "application_proccess   I applied online. I interviewed at General Ass...    7  \n",
       "company                                                 General Assembly   87  \n",
       "interview_description  Connected with the recruiter who was commandin...    1  \n",
       "interview_difficulty                                   Average Interview   41  \n",
       "interview_experience                                 Negative Experience   38  \n",
       "interview_questions     Best Practices, Experience, Past Projects   ,...    1  \n",
       "job_title                                             Teaching Assistant    5  \n",
       "offer_status                                                    No Offer   64  \n",
       "review_date                                                  Jun 1, 2016    2  "
      ]
     },
     "execution_count": 8,
     "metadata": {},
     "output_type": "execute_result"
    }
   ],
   "source": [
    "interviews.describe().T"
   ]
  },
  {
   "cell_type": "markdown",
   "metadata": {},
   "source": [
    "## Data cleaning and prep\n",
    "\n",
    "Tasks:\n",
    "\n",
    "\n",
    "* `application process`\n",
    "    * clean punctiation and symbols\n",
    "    * convert to all lower case\n",
    "    * lamentize words\n",
    "    * consider how to deal with '2 weeks' vs 'two weeks'\n",
    "* `interview_description`\n",
    "    * clean punctiation and symbols\n",
    "    * convert to all lower case\n",
    "    * lamentize words\n",
    "* `interview_difficulty`\n",
    "    * leave as is for now. Maybe map responses to values\n",
    "* `interview_experience`\n",
    "    * leave as is for now. Maybe map responses to values\n",
    "* `interview_questions`\n",
    "    * clean punctiation and symbols\n",
    "    * convert to all lower case\n",
    "    * lamentize words\n",
    "    * Clean out 'Answer Question' and '1 Answer' kinds of text\n",
    "* `job_title`\n",
    "    * clean punctiation and symbols\n",
    "* `offer_status`\n",
    "    * leave as is for now. Maybe map responses to values\n",
    "* `review_date`\n",
    "    * convert to datetime field\n",
    "   "
   ]
  },
  {
   "cell_type": "code",
   "execution_count": 9,
   "metadata": {},
   "outputs": [
    {
     "name": "stdout",
     "output_type": "stream",
     "text": [
      "<class 'pandas.core.frame.DataFrame'>\n",
      "RangeIndex: 87 entries, 0 to 86\n",
      "Data columns (total 9 columns):\n",
      "application_proccess     80 non-null object\n",
      "company                  87 non-null object\n",
      "interview_description    87 non-null object\n",
      "interview_difficulty     78 non-null object\n",
      "interview_experience     86 non-null object\n",
      "interview_questions      76 non-null object\n",
      "job_title                87 non-null object\n",
      "offer_status             87 non-null object\n",
      "review_date              87 non-null datetime64[ns]\n",
      "dtypes: datetime64[ns](1), object(8)\n",
      "memory usage: 6.2+ KB\n"
     ]
    }
   ],
   "source": [
    "interviews['review_date'] = pd.to_datetime(interviews['review_date'])\n",
    "interviews.info()"
   ]
  },
  {
   "cell_type": "code",
   "execution_count": 10,
   "metadata": {},
   "outputs": [
    {
     "data": {
      "text/plain": [
       "<matplotlib.axes._subplots.AxesSubplot at 0x7f03adbd3d30>"
      ]
     },
     "execution_count": 10,
     "metadata": {},
     "output_type": "execute_result"
    },
    {
     "data": {
      "image/png": "[encoded data removed]",
      "text/plain": [
       "<matplotlib.figure.Figure at 0x7f03ade74d30>"
      ]
     },
     "metadata": {},
     "output_type": "display_data"
    }
   ],
   "source": [
    "interviews['review_date'].hist()"
   ]
  },
  {
   "cell_type": "markdown",
   "metadata": {},
   "source": [
    "Time to clean `job_title`, `application_process`, `interview_description`, and `interview_questions`"
   ]
  },
  {
   "cell_type": "code",
   "execution_count": 11,
   "metadata": {},
   "outputs": [],
   "source": [
    "def cleaner(text):\n",
    "    #simple text cleaning\n",
    "    table = str.maketrans({punc:None for punc in string.punctuation})\n",
    "\n",
    "        \n",
    "    mapping = [('&#39;', ''), \n",
    "               ('<br />', ''), \n",
    "               ('<.*>.*</.*>', ''), \n",
    "               ('\\\\ufeff', ''), \n",
    "               ('[\\d]', ''),  \n",
    "               ('\\[.*\\]', ''),  \n",
    "#                ('[^a-z ]', ''),\n",
    "               ('question', ''),\n",
    "               ('answer', ''), \n",
    "              ]\n",
    "    if type(text) == str:\n",
    "        for k, v in mapping:\n",
    "            text = re.sub(k, v, text)\n",
    "            text = text.translate(table)    \n",
    "    \n",
    "        # lemmatization \n",
    "        text = \" \".join(lemma.lemmatize(word) for word in text.split())\n",
    "\n",
    "        #remove stop words\n",
    "        text = \" \".join([word for word in text.lower().split() if word not in eng_stop])\n",
    "\n",
    "    return text"
   ]
  },
  {
   "cell_type": "code",
   "execution_count": 12,
   "metadata": {
    "scrolled": true
   },
   "outputs": [],
   "source": [
    "eng_stop = set(stopwords.words('english'))\n",
    "lemma = WordNetLemmatizer()\n",
    "\n",
    "interviews['interview_questions'] = interviews['interview_questions'].str.lower().apply(cleaner)\n",
    "interviews['application_proccess'] = interviews['application_proccess'].str.lower().apply(cleaner)\n",
    "interviews['interview_description'] = interviews['interview_description'].str.lower().apply(cleaner)\n",
    "interviews['job_title'] = interviews['job_title'].str.lower().apply(cleaner)"
   ]
  },
  {
   "cell_type": "code",
   "execution_count": 13,
   "metadata": {},
   "outputs": [
    {
     "data": {
      "text/html": [
       "<div>\n",
       "<table border=\"1\" class=\"dataframe\">\n",
       "  <thead>\n",
       "    <tr style=\"text-align: right;\">\n",
       "      <th></th>\n",
       "      <th>application_proccess</th>\n",
       "      <th>company</th>\n",
       "      <th>interview_description</th>\n",
       "      <th>interview_difficulty</th>\n",
       "      <th>interview_experience</th>\n",
       "      <th>interview_questions</th>\n",
       "      <th>job_title</th>\n",
       "      <th>offer_status</th>\n",
       "      <th>review_date</th>\n",
       "    </tr>\n",
       "  </thead>\n",
       "  <tbody>\n",
       "    <tr>\n",
       "      <th>0</th>\n",
       "      <td>NaN</td>\n",
       "      <td>General Assembly</td>\n",
       "      <td>wa friendly difficult lot doesnt belong indust...</td>\n",
       "      <td>Difficult Interview</td>\n",
       "      <td>Negative Experience</td>\n",
       "      <td>think hire</td>\n",
       "      <td>teaching assistant</td>\n",
       "      <td>Accepted Offer</td>\n",
       "      <td>2017-12-21</td>\n",
       "    </tr>\n",
       "    <tr>\n",
       "      <th>1</th>\n",
       "      <td>process took month interviewed general assembly</td>\n",
       "      <td>General Assembly</td>\n",
       "      <td>one worst interview process ever participated ...</td>\n",
       "      <td>Easy Interview</td>\n",
       "      <td>Negative Experience</td>\n",
       "      <td>doe experience relate position</td>\n",
       "      <td>commercial counsel</td>\n",
       "      <td>No Offer</td>\n",
       "      <td>2017-12-11</td>\n",
       "    </tr>\n",
       "    <tr>\n",
       "      <th>2</th>\n",
       "      <td>NaN</td>\n",
       "      <td>General Assembly</td>\n",
       "      <td>wa contacted phone interview scheduling blocki...</td>\n",
       "      <td>NaN</td>\n",
       "      <td>Negative Experience</td>\n",
       "      <td>NaN</td>\n",
       "      <td>marketing</td>\n",
       "      <td>No Offer</td>\n",
       "      <td>2017-11-30</td>\n",
       "    </tr>\n",
       "    <tr>\n",
       "      <th>3</th>\n",
       "      <td>applied online process took week interviewed g...</td>\n",
       "      <td>General Assembly</td>\n",
       "      <td>call brief phone interview call ask generic in...</td>\n",
       "      <td>Easy Interview</td>\n",
       "      <td>Negative Experience</td>\n",
       "      <td>typical generic interview swhere see year grea...</td>\n",
       "      <td>admission receptionist</td>\n",
       "      <td>No Offer</td>\n",
       "      <td>2018-01-01</td>\n",
       "    </tr>\n",
       "    <tr>\n",
       "      <th>4</th>\n",
       "      <td>applied recruiter process took month interview...</td>\n",
       "      <td>General Assembly</td>\n",
       "      <td>phone interview task three research write subm...</td>\n",
       "      <td>Average Interview</td>\n",
       "      <td>Negative Experience</td>\n",
       "      <td>tradeshows focus use blog create whitepaper re...</td>\n",
       "      <td>bb marketing manager</td>\n",
       "      <td>No Offer</td>\n",
       "      <td>2017-10-31</td>\n",
       "    </tr>\n",
       "  </tbody>\n",
       "</table>\n",
       "</div>"
      ],
      "text/plain": [
       "                                application_proccess           company  \\\n",
       "0                                                NaN  General Assembly   \n",
       "1    process took month interviewed general assembly  General Assembly   \n",
       "2                                                NaN  General Assembly   \n",
       "3  applied online process took week interviewed g...  General Assembly   \n",
       "4  applied recruiter process took month interview...  General Assembly   \n",
       "\n",
       "                               interview_description interview_difficulty  \\\n",
       "0  wa friendly difficult lot doesnt belong indust...  Difficult Interview   \n",
       "1  one worst interview process ever participated ...       Easy Interview   \n",
       "2  wa contacted phone interview scheduling blocki...                  NaN   \n",
       "3  call brief phone interview call ask generic in...       Easy Interview   \n",
       "4  phone interview task three research write subm...    Average Interview   \n",
       "\n",
       "  interview_experience                                interview_questions  \\\n",
       "0  Negative Experience                                         think hire   \n",
       "1  Negative Experience                     doe experience relate position   \n",
       "2  Negative Experience                                                NaN   \n",
       "3  Negative Experience  typical generic interview swhere see year grea...   \n",
       "4  Negative Experience  tradeshows focus use blog create whitepaper re...   \n",
       "\n",
       "                job_title    offer_status review_date  \n",
       "0      teaching assistant  Accepted Offer  2017-12-21  \n",
       "1      commercial counsel        No Offer  2017-12-11  \n",
       "2               marketing        No Offer  2017-11-30  \n",
       "3  admission receptionist        No Offer  2018-01-01  \n",
       "4    bb marketing manager        No Offer  2017-10-31  "
      ]
     },
     "execution_count": 13,
     "metadata": {},
     "output_type": "execute_result"
    }
   ],
   "source": [
    "interviews.head()"
   ]
  },
  {
   "cell_type": "markdown",
   "metadata": {},
   "source": [
    "The data is (roughly) cleaned up. Time to set up the topic modeling pipeline. I am starting with Non-negative Matrix Factorization (NMF), since it appears that the topics may be more reliable for relatively small numbers of documents. \n",
    "\n",
    "Consider revisiting to impliment Latent Dirichlet Allocation (LDA)."
   ]
  },
  {
   "cell_type": "code",
   "execution_count": 14,
   "metadata": {},
   "outputs": [],
   "source": [
    "from sklearn.feature_extraction.text import TfidfVectorizer\n",
    "from sklearn.decomposition import NMF\n",
    "\n",
    "\n",
    "\n",
    "# functionalized since there are a few different fields to model\n",
    "\n",
    "def get_topics(documents, n_features=1000, n_topics=10):\n",
    "    \n",
    "    documents = documents[documents.notnull()]\n",
    "    \n",
    "    #starting with tfidf\n",
    "    tfidf_vectorizer = TfidfVectorizer(max_df=0.95, min_df=2, max_features=n_features, stop_words='english')\n",
    "    tfidf = tfidf_vectorizer.fit_transform(documents)\n",
    "    tfidf_feature_names = tfidf_vectorizer.get_feature_names()\n",
    "    \n",
    "    #nmf\n",
    "    nmf = NMF(n_components=n_topics, random_state=1, alpha=.1, l1_ratio=.5, init='nndsvd')\n",
    "    nmf.fit(tfidf)\n",
    "    \n",
    "    for topic_idx, topic in enumerate(nmf.components_):\n",
    "        print(\"Topic {}:\".format(topic_idx))\n",
    "        print(\" \".join([tfidf_feature_names[i]\n",
    "                        for i in topic.argsort()[:-10 - 1:-1]]))\n",
    "#figure out how to include weights"
   ]
  },
  {
   "cell_type": "code",
   "execution_count": 15,
   "metadata": {},
   "outputs": [
    {
     "name": "stdout",
     "output_type": "stream",
     "text": [
      "Topic 0:\n",
      "experience previous past design use learning project able interview wish\n",
      "Topic 1:\n",
      "assembly general want work know ask resume explain background like\n",
      "Topic 2:\n",
      "wa time sample issue difficult interview situation negative challenge faced\n",
      "Topic 3:\n",
      "tell role feel skill wrong handle previous time help relevant\n",
      "Topic 4:\n",
      "job asked explain good process search design program regarding area\n",
      "Topic 5:\n",
      "think program time make adult working day typical like skill\n",
      "Topic 6:\n",
      "student help need new classroom search area like field background\n",
      "Topic 7:\n",
      "position doe typical day relevant feel like experience determine difficult\n",
      "Topic 8:\n",
      "goal business program provide area issue given doe experience explain\n",
      "Topic 9:\n",
      "leadership classroom new wrong difficult doe experience explain faced feel\n"
     ]
    }
   ],
   "source": [
    "get_topics(interviews['interview_questions'])"
   ]
  },
  {
   "cell_type": "code",
   "execution_count": 16,
   "metadata": {},
   "outputs": [
    {
     "name": "stdout",
     "output_type": "stream",
     "text": [
      "Topic 0:\n",
      "wa interview phone process week day email applied like asked\n",
      "Topic 1:\n",
      "time recruiter heard email received feedback application available phone tried\n",
      "Topic 2:\n",
      "manager hiring meet based team process recruiter thorough motivation previous\n",
      "Topic 3:\n",
      "minute sample teaching schedule contact screening interview phone recruiter director\n",
      "Topic 4:\n",
      "student assistant understand responsibility interaction asked good getting involved like\n",
      "Topic 5:\n",
      "wa instructor offer given involved job teach time sample recruiter\n",
      "Topic 6:\n",
      "company hr leadership good people young left poor need review\n",
      "Topic 7:\n",
      "task emailed heard followed research confirm submitting process round challenging\n",
      "Topic 8:\n",
      "person second vague interviewed werent intelligent expectation phone came interviewer\n",
      "Topic 9:\n",
      "regarding experience course basically user design marketing stressful specific asked\n"
     ]
    }
   ],
   "source": [
    "get_topics(interviews['interview_description'])"
   ]
  },
  {
   "cell_type": "code",
   "execution_count": 17,
   "metadata": {},
   "outputs": [
    {
     "name": "stdout",
     "output_type": "stream",
     "text": [
      "Topic 0:\n",
      "online applied december atlanta ga took process february july january\n",
      "Topic 1:\n",
      "york new ny september online applied february week june process\n",
      "Topic 2:\n",
      "week took process inperson january applied april november source online\n",
      "Topic 3:\n",
      "san francisco ca march february month april process took inperson\n",
      "Topic 4:\n",
      "day took process august recruiter applied june dallas month tx\n",
      "Topic 5:\n",
      "washington dc december february november june online april july january\n",
      "Topic 6:\n",
      "wa seattle december june inperson september employee july january ga\n",
      "Topic 7:\n",
      "employee referral september applied april february day england july january\n",
      "Topic 8:\n",
      "monica santa ca june recruiter july applied source december inperson\n",
      "Topic 9:\n",
      "april london uk england month took process online atlanta ga\n"
     ]
    }
   ],
   "source": [
    "get_topics(interviews['application_proccess'])"
   ]
  },
  {
   "cell_type": "code",
   "execution_count": null,
   "metadata": {},
   "outputs": [],
   "source": []
  }
 ],
 "metadata": {
  "kernelspec": {
   "display_name": "Python 3",
   "language": "python",
   "name": "python3"
  },
  "language_info": {
   "codemirror_mode": {
    "name": "ipython",
    "version": 3
   },
   "file_extension": ".py",
   "mimetype": "text/x-python",
   "name": "python",
   "nbconvert_exporter": "python",
   "pygments_lexer": "ipython3",
   "version": "3.6.2"
  }
 },
 "nbformat": 4,
 "nbformat_minor": 2
}
