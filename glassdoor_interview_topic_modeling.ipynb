{
 "cells": [
  {
   "cell_type": "markdown",
   "metadata": {},
   "source": [
    "The purpose of this project is to perform topic modeling on data scraped from glassdoor.com\n",
    "\n",
    "For more info on how the data was collected, please see [https://github.com/djkjohnston/glassdoor_scrape](https://github.com/djkjohnston/glassdoor_scrape)"
   ]
  },
  {
   "cell_type": "code",
   "execution_count": 1,
   "metadata": {},
   "outputs": [],
   "source": [
    "import pandas as pd\n",
    "from nltk.corpus import stopwords \n",
    "from nltk.stem.wordnet import WordNetLemmatizer\n",
    "import string\n",
    "import re\n",
    "import numpy as np\n",
    "\n",
    "import matplotlib.pyplot as plt\n",
    "\n",
    "%matplotlib inline"
   ]
  },
  {
   "cell_type": "code",
   "execution_count": 38,
   "metadata": {},
   "outputs": [],
   "source": [
    "interviews = pd.read_csv('data/zillow_interviews.csv')"
   ]
  },
  {
   "cell_type": "code",
   "execution_count": 39,
   "metadata": {},
   "outputs": [
    {
     "data": {
      "text/html": [
       "<div>\n",
       "<table border=\"1\" class=\"dataframe\">\n",
       "  <thead>\n",
       "    <tr style=\"text-align: right;\">\n",
       "      <th></th>\n",
       "      <th>application_proccess</th>\n",
       "      <th>company</th>\n",
       "      <th>interview_description</th>\n",
       "      <th>interview_difficulty</th>\n",
       "      <th>interview_experience</th>\n",
       "      <th>interview_questions</th>\n",
       "      <th>job_title</th>\n",
       "      <th>offer_status</th>\n",
       "      <th>review_date</th>\n",
       "    </tr>\n",
       "  </thead>\n",
       "  <tbody>\n",
       "    <tr>\n",
       "      <th>0</th>\n",
       "      <td>I applied online. The process took 2 weeks. I ...</td>\n",
       "      <td>Zillow</td>\n",
       "      <td>Discussions with the recruiter were positive a...</td>\n",
       "      <td>Easy Interview</td>\n",
       "      <td>Negative Experience</td>\n",
       "      <td>NaN</td>\n",
       "      <td>Senior Software Engineer</td>\n",
       "      <td>No Offer</td>\n",
       "      <td>Jan 9, 2018</td>\n",
       "    </tr>\n",
       "    <tr>\n",
       "      <th>1</th>\n",
       "      <td>I applied online. The process took 2 weeks. I ...</td>\n",
       "      <td>Zillow</td>\n",
       "      <td>2 Phone calls. 1 call with a recruiter. 1 call...</td>\n",
       "      <td>Average Interview</td>\n",
       "      <td>Positive Experience</td>\n",
       "      <td>Tell me about your experience   ,Answer Question</td>\n",
       "      <td>Account Executive</td>\n",
       "      <td>Accepted Offer</td>\n",
       "      <td>Jan 18, 2018</td>\n",
       "    </tr>\n",
       "    <tr>\n",
       "      <th>2</th>\n",
       "      <td>I applied online. The process took 4+ weeks. I...</td>\n",
       "      <td>Zillow</td>\n",
       "      <td>I applied online. Within a couple days, a recr...</td>\n",
       "      <td>Average Interview</td>\n",
       "      <td>Positive Experience</td>\n",
       "      <td>Why are you looking to leave your current job...</td>\n",
       "      <td>Data Analyst</td>\n",
       "      <td>Accepted Offer</td>\n",
       "      <td>Jan 16, 2018</td>\n",
       "    </tr>\n",
       "    <tr>\n",
       "      <th>3</th>\n",
       "      <td>The process took 4 weeks. I interviewed at Zil...</td>\n",
       "      <td>Zillow</td>\n",
       "      <td>Very efficient, friendly process that started ...</td>\n",
       "      <td>Average Interview</td>\n",
       "      <td>Positive Experience</td>\n",
       "      <td>Why Zillow?   ,Answer Question, What motivate...</td>\n",
       "      <td>Business Consultant</td>\n",
       "      <td>Accepted Offer</td>\n",
       "      <td>Jan 5, 2018</td>\n",
       "    </tr>\n",
       "    <tr>\n",
       "      <th>4</th>\n",
       "      <td>I applied through an employee referral. I inte...</td>\n",
       "      <td>Zillow</td>\n",
       "      <td>Was contacted by a recruiter who then set up a...</td>\n",
       "      <td>Easy Interview</td>\n",
       "      <td>Neutral Experience</td>\n",
       "      <td>- Tell me about yourself,- Tell me about a ma...</td>\n",
       "      <td>Marketing Strategy</td>\n",
       "      <td>Declined Offer</td>\n",
       "      <td>Jan 8, 2018</td>\n",
       "    </tr>\n",
       "  </tbody>\n",
       "</table>\n",
       "</div>"
      ],
      "text/plain": [
       "                                application_proccess company  \\\n",
       "0  I applied online. The process took 2 weeks. I ...  Zillow   \n",
       "1  I applied online. The process took 2 weeks. I ...  Zillow   \n",
       "2  I applied online. The process took 4+ weeks. I...  Zillow   \n",
       "3  The process took 4 weeks. I interviewed at Zil...  Zillow   \n",
       "4  I applied through an employee referral. I inte...  Zillow   \n",
       "\n",
       "                               interview_description interview_difficulty  \\\n",
       "0  Discussions with the recruiter were positive a...       Easy Interview   \n",
       "1  2 Phone calls. 1 call with a recruiter. 1 call...    Average Interview   \n",
       "2  I applied online. Within a couple days, a recr...    Average Interview   \n",
       "3  Very efficient, friendly process that started ...    Average Interview   \n",
       "4  Was contacted by a recruiter who then set up a...       Easy Interview   \n",
       "\n",
       "  interview_experience                                interview_questions  \\\n",
       "0  Negative Experience                                                NaN   \n",
       "1  Positive Experience   Tell me about your experience   ,Answer Question   \n",
       "2  Positive Experience   Why are you looking to leave your current job...   \n",
       "3  Positive Experience   Why Zillow?   ,Answer Question, What motivate...   \n",
       "4   Neutral Experience   - Tell me about yourself,- Tell me about a ma...   \n",
       "\n",
       "                  job_title    offer_status    review_date  \n",
       "0  Senior Software Engineer        No Offer    Jan 9, 2018  \n",
       "1         Account Executive  Accepted Offer   Jan 18, 2018  \n",
       "2              Data Analyst  Accepted Offer   Jan 16, 2018  \n",
       "3       Business Consultant  Accepted Offer    Jan 5, 2018  \n",
       "4        Marketing Strategy  Declined Offer    Jan 8, 2018  "
      ]
     },
     "execution_count": 39,
     "metadata": {},
     "output_type": "execute_result"
    }
   ],
   "source": [
    "interviews.head()"
   ]
  },
  {
   "cell_type": "code",
   "execution_count": 40,
   "metadata": {},
   "outputs": [
    {
     "data": {
      "text/plain": [
       "\"Discussions with the recruiter were positive and courteous. I felt like Zillow understood my background and wanted to work with me. The moment I spoke with an engineer, though, I felt differently. All he wanted to do was talk about himself. He barely asked me a thing about my experience or what I was interested in. I am a very senior person who was asked a low-ball question. I provided a good, efficient answer and tested it well, but still got rejected. Pretty short-sighted. I've worked with too many snowflakes in my career and I don't want to work with another.\""
      ]
     },
     "execution_count": 40,
     "metadata": {},
     "output_type": "execute_result"
    }
   ],
   "source": [
    "interviews['interview_description'][0]"
   ]
  },
  {
   "cell_type": "code",
   "execution_count": 41,
   "metadata": {},
   "outputs": [
    {
     "data": {
      "text/plain": [
       "nan"
      ]
     },
     "execution_count": 41,
     "metadata": {},
     "output_type": "execute_result"
    }
   ],
   "source": [
    "interviews['interview_questions'][0]"
   ]
  },
  {
   "cell_type": "code",
   "execution_count": 42,
   "metadata": {
    "scrolled": true
   },
   "outputs": [
    {
     "data": {
      "text/plain": [
       "' - Tell me about yourself,- Tell me about a marketing project you have done,- Why Zillow? \\xa0 ,Answer Question'"
      ]
     },
     "execution_count": 42,
     "metadata": {},
     "output_type": "execute_result"
    }
   ],
   "source": [
    "interviews['interview_questions'][4]"
   ]
  },
  {
   "cell_type": "code",
   "execution_count": 43,
   "metadata": {
    "scrolled": false
   },
   "outputs": [
    {
     "name": "stdout",
     "output_type": "stream",
     "text": [
      "<class 'pandas.core.frame.DataFrame'>\n",
      "RangeIndex: 535 entries, 0 to 534\n",
      "Data columns (total 9 columns):\n",
      "application_proccess     514 non-null object\n",
      "company                  535 non-null object\n",
      "interview_description    535 non-null object\n",
      "interview_difficulty     487 non-null object\n",
      "interview_experience     517 non-null object\n",
      "interview_questions      504 non-null object\n",
      "job_title                535 non-null object\n",
      "offer_status             535 non-null object\n",
      "review_date              535 non-null object\n",
      "dtypes: object(9)\n",
      "memory usage: 37.7+ KB\n"
     ]
    }
   ],
   "source": [
    "interviews.info()"
   ]
  },
  {
   "cell_type": "code",
   "execution_count": 44,
   "metadata": {},
   "outputs": [
    {
     "data": {
      "text/html": [
       "<div>\n",
       "<table border=\"1\" class=\"dataframe\">\n",
       "  <thead>\n",
       "    <tr style=\"text-align: right;\">\n",
       "      <th></th>\n",
       "      <th>count</th>\n",
       "      <th>unique</th>\n",
       "      <th>top</th>\n",
       "      <th>freq</th>\n",
       "    </tr>\n",
       "  </thead>\n",
       "  <tbody>\n",
       "    <tr>\n",
       "      <th>application_proccess</th>\n",
       "      <td>514</td>\n",
       "      <td>440</td>\n",
       "      <td>I applied online. I interviewed at Zillow.</td>\n",
       "      <td>14</td>\n",
       "    </tr>\n",
       "    <tr>\n",
       "      <th>company</th>\n",
       "      <td>535</td>\n",
       "      <td>1</td>\n",
       "      <td>Zillow</td>\n",
       "      <td>535</td>\n",
       "    </tr>\n",
       "    <tr>\n",
       "      <th>interview_description</th>\n",
       "      <td>535</td>\n",
       "      <td>535</td>\n",
       "      <td>recruiter was great to work with. Best experie...</td>\n",
       "      <td>1</td>\n",
       "    </tr>\n",
       "    <tr>\n",
       "      <th>interview_difficulty</th>\n",
       "      <td>487</td>\n",
       "      <td>3</td>\n",
       "      <td>Average Interview</td>\n",
       "      <td>341</td>\n",
       "    </tr>\n",
       "    <tr>\n",
       "      <th>interview_experience</th>\n",
       "      <td>517</td>\n",
       "      <td>6</td>\n",
       "      <td>Positive Experience</td>\n",
       "      <td>293</td>\n",
       "    </tr>\n",
       "    <tr>\n",
       "      <th>interview_questions</th>\n",
       "      <td>504</td>\n",
       "      <td>489</td>\n",
       "      <td>Why Zillow?   ,Answer Question</td>\n",
       "      <td>12</td>\n",
       "    </tr>\n",
       "    <tr>\n",
       "      <th>job_title</th>\n",
       "      <td>535</td>\n",
       "      <td>203</td>\n",
       "      <td>Software Development Engineer</td>\n",
       "      <td>65</td>\n",
       "    </tr>\n",
       "    <tr>\n",
       "      <th>offer_status</th>\n",
       "      <td>535</td>\n",
       "      <td>3</td>\n",
       "      <td>No Offer</td>\n",
       "      <td>326</td>\n",
       "    </tr>\n",
       "    <tr>\n",
       "      <th>review_date</th>\n",
       "      <td>535</td>\n",
       "      <td>454</td>\n",
       "      <td>Aug 10, 2015</td>\n",
       "      <td>4</td>\n",
       "    </tr>\n",
       "  </tbody>\n",
       "</table>\n",
       "</div>"
      ],
      "text/plain": [
       "                      count unique  \\\n",
       "application_proccess    514    440   \n",
       "company                 535      1   \n",
       "interview_description   535    535   \n",
       "interview_difficulty    487      3   \n",
       "interview_experience    517      6   \n",
       "interview_questions     504    489   \n",
       "job_title               535    203   \n",
       "offer_status            535      3   \n",
       "review_date             535    454   \n",
       "\n",
       "                                                                     top freq  \n",
       "application_proccess          I applied online. I interviewed at Zillow.   14  \n",
       "company                                                           Zillow  535  \n",
       "interview_description  recruiter was great to work with. Best experie...    1  \n",
       "interview_difficulty                                   Average Interview  341  \n",
       "interview_experience                                 Positive Experience  293  \n",
       "interview_questions                       Why Zillow?   ,Answer Question   12  \n",
       "job_title                                  Software Development Engineer   65  \n",
       "offer_status                                                    No Offer  326  \n",
       "review_date                                                 Aug 10, 2015    4  "
      ]
     },
     "execution_count": 44,
     "metadata": {},
     "output_type": "execute_result"
    }
   ],
   "source": [
    "interviews.describe().T"
   ]
  },
  {
   "cell_type": "markdown",
   "metadata": {},
   "source": [
    "## Data cleaning and prep\n",
    "\n",
    "Tasks:\n",
    "\n",
    "\n",
    "* `application process`\n",
    "    * clean punctiation and symbols\n",
    "    * convert to all lower case\n",
    "    * lamentize words\n",
    "    * consider how to deal with '2 weeks' vs 'two weeks'\n",
    "* `interview_description`\n",
    "    * clean punctiation and symbols\n",
    "    * convert to all lower case\n",
    "    * lamentize words\n",
    "* `interview_difficulty`\n",
    "    * leave as is for now. Maybe map responses to values\n",
    "* `interview_experience`\n",
    "    * leave as is for now. Maybe map responses to values\n",
    "* `interview_questions`\n",
    "    * clean punctiation and symbols\n",
    "    * convert to all lower case\n",
    "    * lamentize words\n",
    "    * Clean out 'Answer Question' and '1 Answer' kinds of text\n",
    "* `job_title`\n",
    "    * clean punctiation and symbols\n",
    "* `offer_status`\n",
    "    * leave as is for now. Maybe map responses to values\n",
    "* `review_date`\n",
    "    * convert to datetime field\n",
    "   "
   ]
  },
  {
   "cell_type": "code",
   "execution_count": 45,
   "metadata": {},
   "outputs": [
    {
     "name": "stdout",
     "output_type": "stream",
     "text": [
      "<class 'pandas.core.frame.DataFrame'>\n",
      "RangeIndex: 535 entries, 0 to 534\n",
      "Data columns (total 9 columns):\n",
      "application_proccess     514 non-null object\n",
      "company                  535 non-null object\n",
      "interview_description    535 non-null object\n",
      "interview_difficulty     487 non-null object\n",
      "interview_experience     517 non-null object\n",
      "interview_questions      504 non-null object\n",
      "job_title                535 non-null object\n",
      "offer_status             535 non-null object\n",
      "review_date              535 non-null datetime64[ns]\n",
      "dtypes: datetime64[ns](1), object(8)\n",
      "memory usage: 37.7+ KB\n"
     ]
    }
   ],
   "source": [
    "interviews['review_date'] = pd.to_datetime(interviews['review_date'])\n",
    "interviews.info()"
   ]
  },
  {
   "cell_type": "code",
   "execution_count": 46,
   "metadata": {},
   "outputs": [
    {
     "data": {
      "text/plain": [
       "<matplotlib.axes._subplots.AxesSubplot at 0x7f1b9e741978>"
      ]
     },
     "execution_count": 46,
     "metadata": {},
     "output_type": "execute_result"
    },
    {
     "data": {
      "image/png": "[encoded data removed]",
      "text/plain": [
       "<matplotlib.figure.Figure at 0x7f1b9e743b00>"
      ]
     },
     "metadata": {},
     "output_type": "display_data"
    }
   ],
   "source": [
    "interviews['review_date'].hist()"
   ]
  },
  {
   "cell_type": "markdown",
   "metadata": {},
   "source": [
    "Time to clean `job_title`, `application_process`, `interview_description`, and `interview_questions`"
   ]
  },
  {
   "cell_type": "code",
   "execution_count": 47,
   "metadata": {},
   "outputs": [],
   "source": [
    "def cleaner(text):\n",
    "    #simple text cleaning\n",
    "    table = str.maketrans({punc:None for punc in string.punctuation})\n",
    "\n",
    "        \n",
    "    mapping = [('&#39;', ''), \n",
    "               ('<br />', ''), \n",
    "               ('<.*>.*</.*>', ''), \n",
    "               ('\\\\ufeff', ''), \n",
    "               ('[\\d]', ''),  \n",
    "               ('\\[.*\\]', ''),  \n",
    "#                ('[^a-z ]', ''),\n",
    "               ('question', ''),\n",
    "               ('answer', ''), \n",
    "              ]\n",
    "    if type(text) == str:\n",
    "        for k, v in mapping:\n",
    "            text = re.sub(k, v, text)\n",
    "            text = text.translate(table)    \n",
    "           \n",
    "        #remove stop words\n",
    "        text = \" \".join([word for word in text.lower().split() if word not in eng_stop])\n",
    "\n",
    "        # lemmatization \n",
    "        text = \" \".join(lemma.lemmatize(word) for word in text.split())\n",
    "\n",
    "\n",
    "    return text"
   ]
  },
  {
   "cell_type": "code",
   "execution_count": 48,
   "metadata": {
    "scrolled": true
   },
   "outputs": [],
   "source": [
    "eng_stop = set(stopwords.words('english'))\n",
    "lemma = WordNetLemmatizer()\n",
    "\n",
    "interviews['interview_questions'] = interviews['interview_questions'].str.lower().apply(cleaner)\n",
    "interviews['application_proccess'] = interviews['application_proccess'].str.lower().apply(cleaner)\n",
    "interviews['interview_description'] = interviews['interview_description'].str.lower().apply(cleaner)\n",
    "interviews['job_title'] = interviews['job_title'].str.lower().apply(cleaner)"
   ]
  },
  {
   "cell_type": "code",
   "execution_count": 49,
   "metadata": {},
   "outputs": [
    {
     "data": {
      "text/html": [
       "<div>\n",
       "<table border=\"1\" class=\"dataframe\">\n",
       "  <thead>\n",
       "    <tr style=\"text-align: right;\">\n",
       "      <th></th>\n",
       "      <th>application_proccess</th>\n",
       "      <th>company</th>\n",
       "      <th>interview_description</th>\n",
       "      <th>interview_difficulty</th>\n",
       "      <th>interview_experience</th>\n",
       "      <th>interview_questions</th>\n",
       "      <th>job_title</th>\n",
       "      <th>offer_status</th>\n",
       "      <th>review_date</th>\n",
       "    </tr>\n",
       "  </thead>\n",
       "  <tbody>\n",
       "    <tr>\n",
       "      <th>0</th>\n",
       "      <td>applied online process took week interviewed z...</td>\n",
       "      <td>Zillow</td>\n",
       "      <td>discussion recruiter positive courteous felt l...</td>\n",
       "      <td>Easy Interview</td>\n",
       "      <td>Negative Experience</td>\n",
       "      <td>NaN</td>\n",
       "      <td>senior software engineer</td>\n",
       "      <td>No Offer</td>\n",
       "      <td>2018-01-09</td>\n",
       "    </tr>\n",
       "    <tr>\n",
       "      <th>1</th>\n",
       "      <td>applied online process took week interviewed z...</td>\n",
       "      <td>Zillow</td>\n",
       "      <td>phone call call recruiter call sale manager pe...</td>\n",
       "      <td>Average Interview</td>\n",
       "      <td>Positive Experience</td>\n",
       "      <td>tell experience</td>\n",
       "      <td>account executive</td>\n",
       "      <td>Accepted Offer</td>\n",
       "      <td>2018-01-18</td>\n",
       "    </tr>\n",
       "    <tr>\n",
       "      <th>2</th>\n",
       "      <td>applied online process took week interviewed z...</td>\n",
       "      <td>Zillow</td>\n",
       "      <td>applied online within couple day recruiter rea...</td>\n",
       "      <td>Average Interview</td>\n",
       "      <td>Positive Experience</td>\n",
       "      <td>looking leave current job tell time profession...</td>\n",
       "      <td>data analyst</td>\n",
       "      <td>Accepted Offer</td>\n",
       "      <td>2018-01-16</td>\n",
       "    </tr>\n",
       "    <tr>\n",
       "      <th>3</th>\n",
       "      <td>process took week interviewed zillow denver co</td>\n",
       "      <td>Zillow</td>\n",
       "      <td>efficient friendly process started phone scree...</td>\n",
       "      <td>Average Interview</td>\n",
       "      <td>Positive Experience</td>\n",
       "      <td>zillow motivates sale tactic</td>\n",
       "      <td>business consultant</td>\n",
       "      <td>Accepted Offer</td>\n",
       "      <td>2018-01-05</td>\n",
       "    </tr>\n",
       "    <tr>\n",
       "      <th>4</th>\n",
       "      <td>applied employee referral interviewed zillow</td>\n",
       "      <td>Zillow</td>\n",
       "      <td>contacted recruiter set interview one marketin...</td>\n",
       "      <td>Easy Interview</td>\n",
       "      <td>Neutral Experience</td>\n",
       "      <td>tell tell marketing project done zillow</td>\n",
       "      <td>marketing strategy</td>\n",
       "      <td>Declined Offer</td>\n",
       "      <td>2018-01-08</td>\n",
       "    </tr>\n",
       "  </tbody>\n",
       "</table>\n",
       "</div>"
      ],
      "text/plain": [
       "                                application_proccess company  \\\n",
       "0  applied online process took week interviewed z...  Zillow   \n",
       "1  applied online process took week interviewed z...  Zillow   \n",
       "2  applied online process took week interviewed z...  Zillow   \n",
       "3     process took week interviewed zillow denver co  Zillow   \n",
       "4       applied employee referral interviewed zillow  Zillow   \n",
       "\n",
       "                               interview_description interview_difficulty  \\\n",
       "0  discussion recruiter positive courteous felt l...       Easy Interview   \n",
       "1  phone call call recruiter call sale manager pe...    Average Interview   \n",
       "2  applied online within couple day recruiter rea...    Average Interview   \n",
       "3  efficient friendly process started phone scree...    Average Interview   \n",
       "4  contacted recruiter set interview one marketin...       Easy Interview   \n",
       "\n",
       "  interview_experience                                interview_questions  \\\n",
       "0  Negative Experience                                                NaN   \n",
       "1  Positive Experience                                    tell experience   \n",
       "2  Positive Experience  looking leave current job tell time profession...   \n",
       "3  Positive Experience                       zillow motivates sale tactic   \n",
       "4   Neutral Experience            tell tell marketing project done zillow   \n",
       "\n",
       "                  job_title    offer_status review_date  \n",
       "0  senior software engineer        No Offer  2018-01-09  \n",
       "1         account executive  Accepted Offer  2018-01-18  \n",
       "2              data analyst  Accepted Offer  2018-01-16  \n",
       "3       business consultant  Accepted Offer  2018-01-05  \n",
       "4        marketing strategy  Declined Offer  2018-01-08  "
      ]
     },
     "execution_count": 49,
     "metadata": {},
     "output_type": "execute_result"
    }
   ],
   "source": [
    "interviews.head()"
   ]
  },
  {
   "cell_type": "markdown",
   "metadata": {},
   "source": [
    "The data is (roughly) cleaned up. Time to set up the topic modeling pipeline. I am starting with Non-negative Matrix Factorization (NMF), since it appears that the topics may be more reliable for relatively small numbers of documents. \n",
    "\n",
    "Consider revisiting to impliment Latent Dirichlet Allocation (LDA)."
   ]
  },
  {
   "cell_type": "code",
   "execution_count": 50,
   "metadata": {},
   "outputs": [],
   "source": [
    "from sklearn.feature_extraction.text import TfidfVectorizer\n",
    "from sklearn.decomposition import NMF\n",
    "    \n",
    "documents = interviews['interview_questions'][interviews['interview_questions'].notnull()]"
   ]
  },
  {
   "cell_type": "code",
   "execution_count": 51,
   "metadata": {},
   "outputs": [],
   "source": [
    "#starting with tfidf\n",
    "tfidf_vectorizer = TfidfVectorizer(max_df=0.95, min_df=2, max_features=500, stop_words='english')\n",
    "tfidf = tfidf_vectorizer.fit_transform(documents)\n",
    "tfidf_feature_names = tfidf_vectorizer.get_feature_names()"
   ]
  },
  {
   "cell_type": "code",
   "execution_count": 52,
   "metadata": {},
   "outputs": [
    {
     "data": {
      "text/plain": [
       "461"
      ]
     },
     "execution_count": 52,
     "metadata": {},
     "output_type": "execute_result"
    }
   ],
   "source": [
    "len(tfidf_feature_names)"
   ]
  },
  {
   "cell_type": "code",
   "execution_count": 57,
   "metadata": {},
   "outputs": [
    {
     "data": {
      "text/plain": [
       "NMF(alpha=0.1, beta=1, eta=0.1, init='nndsvda', l1_ratio=0.5, max_iter=200,\n",
       "  n_components=5, nls_max_iter=2000, random_state=1, shuffle=False,\n",
       "  solver='cd', sparseness=None, tol=0.0001, verbose=0)"
      ]
     },
     "execution_count": 57,
     "metadata": {},
     "output_type": "execute_result"
    }
   ],
   "source": [
    "#nmf\n",
    "nmf = NMF(n_components=5, random_state=1, alpha=0.1, l1_ratio=0.5, init='nndsvda')\n",
    "nmf.fit(tfidf)"
   ]
  },
  {
   "cell_type": "code",
   "execution_count": 58,
   "metadata": {},
   "outputs": [
    {
     "data": {
      "text/plain": [
       "5"
      ]
     },
     "execution_count": 58,
     "metadata": {},
     "output_type": "execute_result"
    }
   ],
   "source": [
    "len(nmf.components_)"
   ]
  },
  {
   "cell_type": "code",
   "execution_count": 59,
   "metadata": {},
   "outputs": [
    {
     "name": "stdout",
     "output_type": "stream",
     "text": [
      "Topic 0:\n",
      "['zillow*3.0106', 'know*0.0928', 'asked*0.0681', 'make*0.0672', 'role*0.0619', 'competitor*0.0355', 'want*0.0348', 'career*0.0337', 'used*0.0335', 'whats*0.0288']\n",
      "Topic 1:\n",
      "['tell*1.9883', 'experience*0.8209', 'time*0.4652', 'job*0.2145', 'previous*0.1363', 'interested*0.1346', 'resume*0.1116', 'asked*0.0914', 'lot*0.0853', 'place*0.0792']\n",
      "Topic 2:\n",
      "['tree*1.4537', 'trinary*0.6702', 'string*0.4972', 'insert*0.4563', 'delete*0.4537', 'implement*0.4197', 'node*0.4106', 'binary*0.3138', 'long*0.3046', 'convert*0.1588']\n",
      "Topic 3:\n",
      "['work*1.6014', 'want*1.4938', 'repetitive*0.2106', 'day*0.2024', 'time*0.1899', 'deal*0.1436', 'job*0.1231', 'environment*0.0975', 'team*0.0933', 'like*0.0694']\n",
      "Topic 4:\n",
      "['sale*1.7398', 'mock*0.3618', 'asked*0.2816', 'rep*0.1970', 'product*0.1966', 'motivates*0.1688', 'interested*0.1555', 'year*0.1458', 'sell*0.1419', 'experience*0.1410']\n"
     ]
    }
   ],
   "source": [
    "for topic_idx, topic in enumerate(nmf.components_):\n",
    "    print(\"Topic {}:\".format(topic_idx))\n",
    "    print([\"{}*{:1.4f}\".format(tfidf_feature_names[i], topic[i])\n",
    "                    for i in np.flip(topic.argsort(), axis=0)[:10]])\n",
    "        \n",
    "#figure out how to include weights"
   ]
  },
  {
   "cell_type": "code",
   "execution_count": 60,
   "metadata": {},
   "outputs": [],
   "source": [
    "test = nmf.components_[0]"
   ]
  },
  {
   "cell_type": "code",
   "execution_count": null,
   "metadata": {},
   "outputs": [],
   "source": []
  }
 ],
 "metadata": {
  "kernelspec": {
   "display_name": "Python 3",
   "language": "python",
   "name": "python3"
  },
  "language_info": {
   "codemirror_mode": {
    "name": "ipython",
    "version": 3
   },
   "file_extension": ".py",
   "mimetype": "text/x-python",
   "name": "python",
   "nbconvert_exporter": "python",
   "pygments_lexer": "ipython3",
   "version": "3.6.2"
  }
 },
 "nbformat": 4,
 "nbformat_minor": 2
}
