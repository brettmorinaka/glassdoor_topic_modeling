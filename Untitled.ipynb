{
 "cells": [
  {
   "cell_type": "markdown",
   "metadata": {},
   "source": [
    "The purpose of this project is to perform topic modeling on data scraped from glassdoor.com\n",
    "\n",
    "For more info on how the data was collected, please see [https://github.com/djkjohnston/glassdoor_scrape](https://github.com/djkjohnston/glassdoor_scrape)"
   ]
  },
  {
   "cell_type": "code",
   "execution_count": 1,
   "metadata": {},
   "outputs": [],
   "source": [
    "import pandas as pd\n",
    "from nltk.corpus import stopwords \n",
    "from nltk.stem.wordnet import WordNetLemmatizer\n",
    "import string"
   ]
  },
  {
   "cell_type": "code",
   "execution_count": 2,
   "metadata": {},
   "outputs": [],
   "source": [
    "interviews = pd.read_csv('data/glassdoor_interviews.csv')"
   ]
  },
  {
   "cell_type": "code",
   "execution_count": 3,
   "metadata": {},
   "outputs": [
    {
     "data": {
      "text/html": [
       "<div>\n",
       "<table border=\"1\" class=\"dataframe\">\n",
       "  <thead>\n",
       "    <tr style=\"text-align: right;\">\n",
       "      <th></th>\n",
       "      <th>application_proccess</th>\n",
       "      <th>company</th>\n",
       "      <th>interview_description</th>\n",
       "      <th>interview_difficulty</th>\n",
       "      <th>interview_experience</th>\n",
       "      <th>interview_questions</th>\n",
       "      <th>job_title</th>\n",
       "      <th>offer_status</th>\n",
       "      <th>review_date</th>\n",
       "    </tr>\n",
       "  </thead>\n",
       "  <tbody>\n",
       "    <tr>\n",
       "      <th>0</th>\n",
       "      <td>NaN</td>\n",
       "      <td>General Assembly</td>\n",
       "      <td>It was very friendly but difficult, a lot of q...</td>\n",
       "      <td>Difficult Interview</td>\n",
       "      <td>Negative Experience</td>\n",
       "      <td>Why do you think we should hire you?   ,Answe...</td>\n",
       "      <td>Teaching Assistant</td>\n",
       "      <td>Accepted Offer</td>\n",
       "      <td>Dec 21, 2017</td>\n",
       "    </tr>\n",
       "    <tr>\n",
       "      <th>1</th>\n",
       "      <td>The process took 3+ months. I interviewed at G...</td>\n",
       "      <td>General Assembly</td>\n",
       "      <td>One of the worst interview processes I have ev...</td>\n",
       "      <td>Easy Interview</td>\n",
       "      <td>Negative Experience</td>\n",
       "      <td>How does your experience relate to the positi...</td>\n",
       "      <td>Commercial Counsel</td>\n",
       "      <td>No Offer</td>\n",
       "      <td>Dec 11, 2017</td>\n",
       "    </tr>\n",
       "    <tr>\n",
       "      <th>2</th>\n",
       "      <td>NaN</td>\n",
       "      <td>General Assembly</td>\n",
       "      <td>Was contacted for a phone interview. After sch...</td>\n",
       "      <td>NaN</td>\n",
       "      <td>Negative Experience</td>\n",
       "      <td>NaN</td>\n",
       "      <td>Marketing</td>\n",
       "      <td>No Offer</td>\n",
       "      <td>Nov 30, 2017</td>\n",
       "    </tr>\n",
       "    <tr>\n",
       "      <th>3</th>\n",
       "      <td>I applied online. The process took 2 weeks. I ...</td>\n",
       "      <td>General Assembly</td>\n",
       "      <td>They call you, you have a brief phone intervie...</td>\n",
       "      <td>Easy Interview</td>\n",
       "      <td>Negative Experience</td>\n",
       "      <td>Typical and very generic interview questions....</td>\n",
       "      <td>\"Admissions Receptionist\"</td>\n",
       "      <td>No Offer</td>\n",
       "      <td>Jan 1, 2018</td>\n",
       "    </tr>\n",
       "    <tr>\n",
       "      <th>4</th>\n",
       "      <td>I applied through a recruiter. The process too...</td>\n",
       "      <td>General Assembly</td>\n",
       "      <td>3 phone interviews, and a task (three question...</td>\n",
       "      <td>Average Interview</td>\n",
       "      <td>Negative Experience</td>\n",
       "      <td>What tradeshows should we focus on?   ,1 Answ...</td>\n",
       "      <td>B2B Marketing Manager</td>\n",
       "      <td>No Offer</td>\n",
       "      <td>Oct 31, 2017</td>\n",
       "    </tr>\n",
       "  </tbody>\n",
       "</table>\n",
       "</div>"
      ],
      "text/plain": [
       "                                application_proccess           company  \\\n",
       "0                                                NaN  General Assembly   \n",
       "1  The process took 3+ months. I interviewed at G...  General Assembly   \n",
       "2                                                NaN  General Assembly   \n",
       "3  I applied online. The process took 2 weeks. I ...  General Assembly   \n",
       "4  I applied through a recruiter. The process too...  General Assembly   \n",
       "\n",
       "                               interview_description interview_difficulty  \\\n",
       "0  It was very friendly but difficult, a lot of q...  Difficult Interview   \n",
       "1  One of the worst interview processes I have ev...       Easy Interview   \n",
       "2  Was contacted for a phone interview. After sch...                  NaN   \n",
       "3  They call you, you have a brief phone intervie...       Easy Interview   \n",
       "4  3 phone interviews, and a task (three question...    Average Interview   \n",
       "\n",
       "  interview_experience                                interview_questions  \\\n",
       "0  Negative Experience   Why do you think we should hire you?   ,Answe...   \n",
       "1  Negative Experience   How does your experience relate to the positi...   \n",
       "2  Negative Experience                                                NaN   \n",
       "3  Negative Experience   Typical and very generic interview questions....   \n",
       "4  Negative Experience   What tradeshows should we focus on?   ,1 Answ...   \n",
       "\n",
       "                   job_title    offer_status    review_date  \n",
       "0         Teaching Assistant  Accepted Offer   Dec 21, 2017  \n",
       "1         Commercial Counsel        No Offer   Dec 11, 2017  \n",
       "2                  Marketing        No Offer   Nov 30, 2017  \n",
       "3  \"Admissions Receptionist\"        No Offer    Jan 1, 2018  \n",
       "4      B2B Marketing Manager        No Offer   Oct 31, 2017  "
      ]
     },
     "execution_count": 3,
     "metadata": {},
     "output_type": "execute_result"
    }
   ],
   "source": [
    "interviews.head()"
   ]
  },
  {
   "cell_type": "code",
   "execution_count": 5,
   "metadata": {},
   "outputs": [
    {
     "data": {
      "text/plain": [
       "\"It was very friendly but difficult, a lot of questions doesn't belong to industry, but i had a lot of fun, great interviewers. Amazing environment. When i get in they offer me water, tea, coffee and I think it was very nice of them.\""
      ]
     },
     "execution_count": 5,
     "metadata": {},
     "output_type": "execute_result"
    }
   ],
   "source": [
    "interviews['interview_description'][0]"
   ]
  },
  {
   "cell_type": "code",
   "execution_count": 8,
   "metadata": {},
   "outputs": [
    {
     "data": {
      "text/plain": [
       "' Why do you think we should hire you? \\xa0 ,Answer Question'"
      ]
     },
     "execution_count": 8,
     "metadata": {},
     "output_type": "execute_result"
    }
   ],
   "source": [
    "interviews['interview_questions'][0]"
   ]
  },
  {
   "cell_type": "code",
   "execution_count": 9,
   "metadata": {},
   "outputs": [
    {
     "data": {
      "text/plain": [
       "' What tradeshows should we focus on? \\xa0 ,1 Answer, How can we use our blog to create a whitepaper? \\xa0 ,1 Answer, What can we do to reach our audience (c-level, etc.) \\xa0 ,1 Answer'"
      ]
     },
     "execution_count": 9,
     "metadata": {},
     "output_type": "execute_result"
    }
   ],
   "source": [
    "interviews['interview_questions'][4]"
   ]
  },
  {
   "cell_type": "markdown",
   "metadata": {},
   "source": [
    "## Data cleaning and prep\n",
    "\n",
    "Tasks:\n",
    "\n",
    "\n",
    "* `application process`\n",
    "    * clean punctiation and symbols\n",
    "    * convert to all lower case\n",
    "    * lamentize words\n",
    "    * consider how to deal with '2 weeks' vs 'two weeks'\n",
    "* `interview_description`\n",
    "    * clean punctiation and symbols\n",
    "    * convert to all lower case\n",
    "    * lamentize words\n",
    "* `interview_difficulty`\n",
    "    * leave as is for now. Maybe map responses to values\n",
    "* `interview_experience`\n",
    "    * leave as is for now. Maybe map responses to values\n",
    "* `interview_questions`\n",
    "    * clean punctiation and symbols\n",
    "    * convert to all lower case\n",
    "    * lamentize words\n",
    "    * Clean out 'Answer Question' and '1 Answer' kinds of text\n",
    "* `job_title`\n",
    "    * clean punctiation and symbols\n",
    "* `offer_status`\n",
    "    * leave as is for now. Maybe map responses to values\n",
    "* `review_date`\n",
    "    * convert to datetime field\n",
    "   "
   ]
  },
  {
   "cell_type": "code",
   "execution_count": null,
   "metadata": {},
   "outputs": [],
   "source": []
  }
 ],
 "metadata": {
  "kernelspec": {
   "display_name": "Python 3",
   "language": "python",
   "name": "python3"
  },
  "language_info": {
   "codemirror_mode": {
    "name": "ipython",
    "version": 3
   },
   "file_extension": ".py",
   "mimetype": "text/x-python",
   "name": "python",
   "nbconvert_exporter": "python",
   "pygments_lexer": "ipython3",
   "version": "3.6.2"
  }
 },
 "nbformat": 4,
 "nbformat_minor": 2
}
